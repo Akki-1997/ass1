{
 "cells": [
  {
   "cell_type": "markdown",
   "id": "9ee8b470",
   "metadata": {},
   "source": [
    "                        TOPIC: Python Basics Variable\n",
    "1.Declare two variables, `x` and `y`, and assign them integer values. Swap the\n",
    "values of these variables without using any temporary variable."
   ]
  },
  {
   "cell_type": "code",
   "execution_count": 5,
   "id": "7fdb869a",
   "metadata": {},
   "outputs": [],
   "source": [
    "x = 10\n",
    "y = 20\n",
    "x ,y = y , x\n",
    "# after swap\n"
   ]
  },
  {
   "cell_type": "code",
   "execution_count": 8,
   "id": "7defd11d",
   "metadata": {},
   "outputs": [
    {
     "data": {
      "text/plain": [
       "(20, 10)"
      ]
     },
     "execution_count": 8,
     "metadata": {},
     "output_type": "execute_result"
    }
   ],
   "source": [
    "x,y"
   ]
  },
  {
   "cell_type": "markdown",
   "id": "aa06c38c",
   "metadata": {},
   "source": [
    "2.Create a program that calculates the area of a rectangle. Take the length and\n",
    "width as inputs from the user and store them in variables. Calculate and\n",
    "display the area."
   ]
  },
  {
   "cell_type": "markdown",
   "id": "bc851aa3",
   "metadata": {},
   "source": []
  },
  {
   "cell_type": "code",
   "execution_count": 3,
   "id": "1214a0dd",
   "metadata": {},
   "outputs": [
    {
     "name": "stdout",
     "output_type": "stream",
     "text": [
      "10 20 200\n"
     ]
    }
   ],
   "source": [
    "a=int(input(\"length\"))\n",
    "b=int(input(\"width\"))\n",
    "area = a*b\n",
    "print(a,b,area)"
   ]
  },
  {
   "cell_type": "markdown",
   "id": "46b5c166",
   "metadata": {},
   "source": [
    "3.Write a Python program that converts temperatures from Celsius to\n",
    "Fahrenheit. Take the temperature in Celsius as input, store it in a variable,\n",
    "convert it to Fahrenheit, and display the result."
   ]
  },
  {
   "cell_type": "code",
   "execution_count": 13,
   "id": "863a7fb7",
   "metadata": {},
   "outputs": [
    {
     "name": "stdout",
     "output_type": "stream",
     "text": [
      "32 C 89.6 F\n"
     ]
    }
   ],
   "source": [
    "cel=int(input(\"enter degree celcious\"))\n",
    "DegreeFeh= (cel*9/5)+32\n",
    "print(cel,\"C\",DegreeFeh,\"F\")"
   ]
  },
  {
   "cell_type": "markdown",
   "id": "6d762596",
   "metadata": {},
   "source": [
    "                      TOPIC: String Based Questions\n",
    "1. Write a Python program that takes a string as input and prints the length of\n",
    "the string."
   ]
  },
  {
   "cell_type": "code",
   "execution_count": 12,
   "id": "84a929fa",
   "metadata": {},
   "outputs": [
    {
     "name": "stdout",
     "output_type": "stream",
     "text": [
      "learning python\n",
      "15\n"
     ]
    },
    {
     "data": {
      "text/plain": [
       "str"
      ]
     },
     "execution_count": 12,
     "metadata": {},
     "output_type": "execute_result"
    }
   ],
   "source": [
    "p=(input())\n",
    "print(p)\n",
    "print(len(p))\n",
    "type(p)"
   ]
  },
  {
   "cell_type": "markdown",
   "id": "11ab5101",
   "metadata": {},
   "source": [
    "2. Create a program that takes a sentence from the user and counts the number\n",
    "of vowels (a, e, i, o, u) in the string."
   ]
  },
  {
   "cell_type": "code",
   "execution_count": 10,
   "id": "0895cba6",
   "metadata": {},
   "outputs": [
    {
     "name": "stdout",
     "output_type": "stream",
     "text": [
      "i am akshay gupta\n",
      "4\n",
      "0\n",
      "1\n",
      "0\n",
      "1\n"
     ]
    }
   ],
   "source": [
    "q=input()\n",
    "print(q)\n",
    "print(q.count('a'))\n",
    "print(q.count('e'))\n",
    "print(q.count('i'))\n",
    "print(q.count('o'))\n",
    "print(q.count('u'))"
   ]
  },
  {
   "cell_type": "markdown",
   "id": "448bf72f",
   "metadata": {},
   "source": [
    "3. Given a string, reverse the order of characters using string slicing and print\n",
    "the reversed string."
   ]
  },
  {
   "cell_type": "code",
   "execution_count": 30,
   "id": "00151c24",
   "metadata": {},
   "outputs": [
    {
     "name": "stdout",
     "output_type": "stream",
     "text": [
      "i am akshay\n",
      "yahska ma i\n"
     ]
    }
   ],
   "source": [
    "s=input()\n",
    "print(s)\n",
    "print(s[ : :-1])"
   ]
  },
  {
   "cell_type": "markdown",
   "id": "7e9d1d9f",
   "metadata": {},
   "source": [
    "4. Write a program that takes a string as input and checks if it is a palindrome\n",
    "(reads the same forwards and backwards)."
   ]
  },
  {
   "cell_type": "code",
   "execution_count": 47,
   "id": "5b85f157",
   "metadata": {},
   "outputs": [
    {
     "name": "stdout",
     "output_type": "stream",
     "text": [
      "input = madam\n",
      "given string is palindrome\n"
     ]
    }
   ],
   "source": [
    "s=input()\n",
    "t=s[ : :-1]\n",
    "if s==t:\n",
    "    print('input =',s)\n",
    "    print('given string is palindrome')\n",
    "else:\n",
    "    print('input =',s)\n",
    "    print('given string is not palindrome')    \n",
    "    "
   ]
  },
  {
   "cell_type": "markdown",
   "id": "08a946cf",
   "metadata": {},
   "source": [
    "5. Create a program that takes a string as input and removes all the spaces from\n",
    "it. Print the modified string without spaces."
   ]
  },
  {
   "cell_type": "code",
   "execution_count": 21,
   "id": "4f626144",
   "metadata": {},
   "outputs": [
    {
     "name": "stdout",
     "output_type": "stream",
     "text": [
      "Pw skills is a better online learning platform\n",
      "Pwskillsisabetteronlinelearningplatform\n"
     ]
    }
   ],
   "source": [
    "r=input()\n",
    "print(r)\n",
    "l1=r.replace(' ','')\n",
    "print(l1)"
   ]
  }
 ],
 "metadata": {
  "kernelspec": {
   "display_name": "Python 3 (ipykernel)",
   "language": "python",
   "name": "python3"
  },
  "language_info": {
   "codemirror_mode": {
    "name": "ipython",
    "version": 3
   },
   "file_extension": ".py",
   "mimetype": "text/x-python",
   "name": "python",
   "nbconvert_exporter": "python",
   "pygments_lexer": "ipython3",
   "version": "3.8.0"
  }
 },
 "nbformat": 4,
 "nbformat_minor": 5
}
